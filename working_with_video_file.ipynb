{
 "cells": [
  {
   "cell_type": "code",
   "execution_count": null,
   "id": "87a8e82b",
   "metadata": {},
   "outputs": [],
   "source": []
  },
  {
   "cell_type": "code",
   "execution_count": 1,
   "id": "4c859e56",
   "metadata": {},
   "outputs": [],
   "source": [
    "import cv2"
   ]
  },
  {
   "cell_type": "code",
   "execution_count": 3,
   "id": "80a16bd2",
   "metadata": {},
   "outputs": [],
   "source": [
    "import cv2\n",
    "\n",
    "video = cv2.VideoCapture(\"./mountain.mp4\")  # <-- This line was missing\n",
    "\n",
    "# Now display the video\n",
    "while True:\n",
    "    ret, frame = video.read()\n",
    "    if not ret:\n",
    "        break\n",
    "    cv2.imshow(\"Video Frame\", frame)\n",
    "    if cv2.waitKey(1) & 0xFF == ord('q'):\n",
    "        break\n",
    "\n",
    "video.release()\n",
    "cv2.destroyAllWindows()\n"
   ]
  },
  {
   "cell_type": "code",
   "execution_count": 7,
   "id": "8af1d5c4",
   "metadata": {},
   "outputs": [],
   "source": [
    "#write a video\n",
    "video = cv2.VideoCapture(\"./mountain.mp4\")\n",
    "fourcc=cv2.VideoWriter_fourcc(*\"mp4v\")\n",
    "width=int(video.get(cv2.CAP_PROP_FRAME_WIDTH))\n",
    "height=int(video.get(cv2.CAP_PROP_FRAME_HEIGHT))\n",
    "out=cv2.VideoWriter(\"./output.mp4\",fourcc ,38,(width,height))\n",
    "while True:\n",
    "    ret,frame=video.read()\n",
    "    if not ret:\n",
    "        break\n",
    "    out.write(frame)   \n",
    "out.release()\n",
    "video.release()\n",
    "cv2.destroyAllWindows()\n"
   ]
  },
  {
   "cell_type": "code",
   "execution_count": null,
   "id": "0512e8e2",
   "metadata": {},
   "outputs": [],
   "source": [
    "#write a video \n",
    "video = cv2.VideoCapture(\"./mountain.mp4\")\n",
    "fourcc=cv2.VideoWriter_fourcc(*\"mp4v\")\n",
    "width=int(video.get(cv2.CAP_PROP_FRAME_WIDTH))\n",
    "height=int(video.get(cv2.CAP_PROP_FRAME_HEIGHT))\n",
    "out=cv2.VideoWriter(\"./new_output.mp4\",fourcc ,38,(width,height))\n",
    "while True:\n",
    "    ret,frame=video.read()\n",
    "    if not ret:\n",
    "        break\n",
    "    frame=frame+20\n",
    "    out.write(frame)   \n",
    "out.release()\n",
    "video.release()\n",
    "cv2.destroyAllWindows()\n"
   ]
  }
 ],
 "metadata": {
  "kernelspec": {
   "display_name": "KNCVU",
   "language": "python",
   "name": "python3"
  },
  "language_info": {
   "codemirror_mode": {
    "name": "ipython",
    "version": 3
   },
   "file_extension": ".py",
   "mimetype": "text/x-python",
   "name": "python",
   "nbconvert_exporter": "python",
   "pygments_lexer": "ipython3",
   "version": "3.11.13"
  }
 },
 "nbformat": 4,
 "nbformat_minor": 5
}
