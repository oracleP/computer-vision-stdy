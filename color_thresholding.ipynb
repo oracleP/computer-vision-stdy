{
 "cells": [
  {
   "cell_type": "code",
   "execution_count": 2,
   "id": "ff62d708",
   "metadata": {},
   "outputs": [],
   "source": [
    "import cv2\n",
    "import numpy as np\n",
    "import matplotlib.pyplot as plt"
   ]
  },
  {
   "cell_type": "code",
   "execution_count": null,
   "id": "4f6b2951",
   "metadata": {},
   "outputs": [],
   "source": [
    "#pip install numpy\n",
    "#pip install matplotlib"
   ]
  },
  {
   "cell_type": "code",
   "execution_count": 6,
   "id": "3891ff80",
   "metadata": {},
   "outputs": [],
   "source": [
    "image=cv2.imread(\"./giraffe.png\")"
   ]
  },
  {
   "cell_type": "code",
   "execution_count": 7,
   "id": "9ea3debf",
   "metadata": {},
   "outputs": [
    {
     "ename": "AttributeError",
     "evalue": "module 'cv2' has no attribute 'Color_BGR2RGB'",
     "output_type": "error",
     "traceback": [
      "\u001b[31m---------------------------------------------------------------------------\u001b[39m",
      "\u001b[31mAttributeError\u001b[39m                            Traceback (most recent call last)",
      "\u001b[36mCell\u001b[39m\u001b[36m \u001b[39m\u001b[32mIn[7]\u001b[39m\u001b[32m, line 1\u001b[39m\n\u001b[32m----> \u001b[39m\u001b[32m1\u001b[39m image_rgb=cv2.cvtColor(image, \u001b[43mcv2\u001b[49m\u001b[43m.\u001b[49m\u001b[43mColor_BGR2RGB\u001b[49m)\n\u001b[32m      2\u001b[39m image_gray=cv2.cvtColor(image, cv2.COLOR_BGR2RGB)\n",
      "\u001b[31mAttributeError\u001b[39m: module 'cv2' has no attribute 'Color_BGR2RGB'"
     ]
    }
   ],
   "source": [
    "image_rgb=cv2.cvtColor(image, cv2.Color_BGR2RGB)\n",
    "image_gray=cv2.cvtColor(image, cv2.COLOR_BGR2RGB)"
   ]
  }
 ],
 "metadata": {
  "kernelspec": {
   "display_name": "KNCVU",
   "language": "python",
   "name": "python3"
  },
  "language_info": {
   "codemirror_mode": {
    "name": "ipython",
    "version": 3
   },
   "file_extension": ".py",
   "mimetype": "text/x-python",
   "name": "python",
   "nbconvert_exporter": "python",
   "pygments_lexer": "ipython3",
   "version": "3.11.13"
  }
 },
 "nbformat": 4,
 "nbformat_minor": 5
}
